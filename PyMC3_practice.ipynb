{
 "cells": [
  {
   "cell_type": "code",
   "execution_count": 1,
   "metadata": {},
   "outputs": [],
   "source": [
    "%matplotlib inline\n",
    "\n",
    "from warnings import filterwarnings\n",
    "\n",
    "from matplotlib.patches import Ellipse\n",
    "from matplotlib import pyplot as plt\n",
    "import numpy as np\n",
    "import pymc3 as pm\n",
    "import seaborn as sns"
   ]
  },
  {
   "cell_type": "code",
   "execution_count": 2,
   "metadata": {},
   "outputs": [],
   "source": [
    "with pm.Model() as model:\n",
    "    mu = pm.Normal('mu', mu=0, sd=1)\n",
    "    obs = pm.Normal('obs', mu=mu, sd=1, observed=np.random.randn(100))"
   ]
  },
  {
   "cell_type": "markdown",
   "metadata": {},
   "source": [
    "モデルはrandom variables (RVs) への参照をもち、logpやその勾配を計算する。"
   ]
  },
  {
   "cell_type": "code",
   "execution_count": 12,
   "metadata": {},
   "outputs": [
    {
     "data": {
      "text/plain": [
       "([mu, obs], [mu], [obs])"
      ]
     },
     "execution_count": 12,
     "metadata": {},
     "output_type": "execute_result"
    }
   ],
   "source": [
    "model.basic_RVs, model.free_RVs, model.observed_RVs"
   ]
  },
  {
   "cell_type": "code",
   "execution_count": 13,
   "metadata": {},
   "outputs": [
    {
     "data": {
      "text/plain": [
       "array(-155.78695688)"
      ]
     },
     "execution_count": 13,
     "metadata": {},
     "output_type": "execute_result"
    }
   ],
   "source": [
    "# log probability density function\n",
    "model.logp({'mu': 0})"
   ]
  },
  {
   "cell_type": "code",
   "execution_count": 23,
   "metadata": {},
   "outputs": [
    {
     "data": {
      "text/plain": [
       "array(-0.91893853)"
      ]
     },
     "execution_count": 23,
     "metadata": {},
     "output_type": "execute_result"
    }
   ],
   "source": [
    "with pm.Model():\n",
    "    x = pm.Normal('x', mu=0, sd=1)\n",
    "\n",
    "x.logp({'x': 0})"
   ]
  },
  {
   "cell_type": "markdown",
   "metadata": {},
   "source": [
    "PyMC3では制約ありのRVsは制約なしになるように自動的に変換される。  \n",
    "include_transformed=Trueを引数に与えることで、変換後のパラメータの結果も表示されるようになる。"
   ]
  },
  {
   "cell_type": "code",
   "execution_count": 11,
   "metadata": {},
   "outputs": [
    {
     "data": {
      "text/plain": [
       "[x_log__, y_interval__]"
      ]
     },
     "execution_count": 11,
     "metadata": {},
     "output_type": "execute_result"
    }
   ],
   "source": [
    "with pm.Model() as model:\n",
    "    x = pm.Gamma('x', mu=1, sd=1)\n",
    "    y = pm.Uniform('y', lower=-1, upper=2)\n",
    "    z = pm.Deterministic('z', x + y)\n",
    "    \n",
    "model.free_RVs"
   ]
  },
  {
   "cell_type": "code",
   "execution_count": 15,
   "metadata": {},
   "outputs": [
    {
     "data": {
      "text/plain": [
       "[x, y, z]"
      ]
     },
     "execution_count": 15,
     "metadata": {},
     "output_type": "execute_result"
    }
   ],
   "source": [
    "model.deterministics"
   ]
  },
  {
   "cell_type": "markdown",
   "metadata": {},
   "source": [
    "### 初期値の設定  \n",
    "基本的に初期値は自動的に設定されるが、手動で変更することも可能。"
   ]
  },
  {
   "cell_type": "code",
   "execution_count": 17,
   "metadata": {},
   "outputs": [
    {
     "data": {
      "text/plain": [
       "array([1., 1., 1., 1., 1.])"
      ]
     },
     "execution_count": 17,
     "metadata": {},
     "output_type": "execute_result"
    }
   ],
   "source": [
    "# initial values\n",
    "with pm.Model():\n",
    "    x = pm.Normal('x', mu=1, sd=2, shape=5)\n",
    "\n",
    "x.tag.test_value"
   ]
  },
  {
   "cell_type": "code",
   "execution_count": 27,
   "metadata": {},
   "outputs": [
    {
     "data": {
      "text/plain": [
       "array([ 0.89674484,  0.3252694 , -0.24739399,  0.77750987,  0.30550593])"
      ]
     },
     "execution_count": 27,
     "metadata": {},
     "output_type": "execute_result"
    }
   ],
   "source": [
    "with pm.Model():\n",
    "    x = pm.Normal('x', mu=0, sd=1, shape=5, testval=np.random.randn(5))\n",
    "\n",
    "x.tag.test_value"
   ]
  },
  {
   "cell_type": "markdown",
   "metadata": {},
   "source": [
    "### サンプリング\n",
    "NUTSでは良い初期値を探索するために、変分推論などを用いる。  \n",
    "NUTSでのサンプリングが難しい場合、メトロポリス法を使っても改善することは少なく、初期値やパラメータを調整する方が良い。"
   ]
  },
  {
   "cell_type": "code",
   "execution_count": 18,
   "metadata": {},
   "outputs": [
    {
     "data": {
      "text/plain": [
       "['BinaryGibbsMetropolis',\n",
       " 'BinaryMetropolis',\n",
       " 'CSG',\n",
       " 'CategoricalGibbsMetropolis',\n",
       " 'CauchyProposal',\n",
       " 'CompoundStep',\n",
       " 'DEMetropolis',\n",
       " 'ElemwiseCategorical',\n",
       " 'EllipticalSlice',\n",
       " 'HamiltonianMC',\n",
       " 'LaplaceProposal',\n",
       " 'Metropolis',\n",
       " 'MultivariateNormalProposal',\n",
       " 'NUTS',\n",
       " 'NormalProposal',\n",
       " 'PoissonProposal',\n",
       " 'SGFS',\n",
       " 'SMC',\n",
       " 'Slice']"
      ]
     },
     "execution_count": 18,
     "metadata": {},
     "output_type": "execute_result"
    }
   ],
   "source": [
    "list(filter(lambda x: x[0].isupper(), dir(pm.step_methods)))"
   ]
  },
  {
   "cell_type": "markdown",
   "metadata": {},
   "source": [
    "### 変分推論"
   ]
  },
  {
   "cell_type": "code",
   "execution_count": 21,
   "metadata": {},
   "outputs": [
    {
     "name": "stderr",
     "output_type": "stream",
     "text": [
      "100%|██████████| 10000/10000 [00:54<00:00, 184.92it/s]\n"
     ]
    }
   ],
   "source": [
    "w = pm.floatX([.2, .8])\n",
    "mu = pm.floatX([-.3, .5])\n",
    "sd = pm.floatX([.1, .1])\n",
    "with pm.Model() as model:\n",
    "    pm.NormalMixture('x', w=w, mu=mu, ｓｄ=sd)\n",
    "    approx = pm.fit(method=pm.SVGD(n_particles=200, jitter=1.))"
   ]
  },
  {
   "cell_type": "code",
   "execution_count": 22,
   "metadata": {},
   "outputs": [
    {
     "data": {
      "image/png": "[encoded data removed]",
      "text/plain": [
       "<Figure size 432x288 with 1 Axes>"
      ]
     },
     "metadata": {
      "needs_background": "light"
     },
     "output_type": "display_data"
    }
   ],
   "source": [
    "plt.figure()\n",
    "trace = approx.sample(10000)\n",
    "sns.distplot(trace['x']);"
   ]
  },
  {
   "cell_type": "markdown",
   "metadata": {},
   "source": [
    "### デバッグ\n",
    "theanoのprinting.Printを用いる。"
   ]
  },
  {
   "cell_type": "code",
   "execution_count": 24,
   "metadata": {},
   "outputs": [
    {
     "name": "stderr",
     "output_type": "stream",
     "text": [
      "Only 5 samples in chain.\n",
      "Sequential sampling (1 chains in 1 job)\n",
      "CompoundStep\n",
      ">Metropolis: [sd]\n",
      ">Metropolis: [mu]\n",
      "/Users/yuho.kida/python_DS/lib/python3.7/site-packages/pymc3/sampling.py:476: UserWarning: The number of samples is too small to check convergence reliably.\n",
      "  warnings.warn(\"The number of samples is too small to check convergence reliably.\")\n"
     ]
    },
    {
     "data": {
      "image/png": "[encoded data removed]",
      "text/plain": [
       "<Figure size 432x288 with 1 Axes>"
      ]
     },
     "metadata": {
      "needs_background": "light"
     },
     "output_type": "display_data"
    }
   ],
   "source": [
    "from io import StringIO\n",
    "import theano.tensor as tt\n",
    "import sys\n",
    "\n",
    "x = np.random.randn(100)\n",
    "\n",
    "old_stdout = sys.stdout\n",
    "mystdout = sys.stdout = StringIO()\n",
    "\n",
    "with pm.Model() as model:\n",
    "    mu = pm.Normal('mu', mu=0, sd=1)\n",
    "    sd = pm.Normal('sd', mu=0, sd=1)\n",
    "\n",
    "    mu_print = tt.printing.Print('mu')(mu)\n",
    "    sd_print = tt.printing.Print('sd')(sd)\n",
    "\n",
    "    obs = pm.Normal('obs', mu=mu_print, sd=sd_print, observed=x)\n",
    "    step = pm.Metropolis()\n",
    "    trace = pm.sample(5, step, tune=0, chains=1, progressbar=False) # Make sure not to draw too many samples\n",
    "\n",
    "sys.stdout = old_stdout\n",
    "\n",
    "output = mystdout.getvalue().split('\\n')\n",
    "mulines = [s for s in output if 'mu' in s]\n",
    "\n",
    "muvals = [line.split()[-1] for line in mulines]\n",
    "plt.plot(np.arange(0, len(muvals)), muvals)\n",
    "plt.xlabel('proposal iteration')\n",
    "plt.ylabel('mu value');"
   ]
  },
  {
   "cell_type": "markdown",
   "metadata": {},
   "source": [
    "### Mass matrix\n",
    "\n",
    "HMC法のパラメータは３つ。\n",
    "\n",
    "1. discretization time  ϵ\n",
    "2. mass matrix  Σ−1\n",
    "3. number of steps taken  L\n",
    "\n"
   ]
  },
  {
   "cell_type": "code",
   "execution_count": null,
   "metadata": {},
   "outputs": [],
   "source": []
  }
 ],
 "metadata": {
  "kernelspec": {
   "display_name": "Python 3",
   "language": "python",
   "name": "python3"
  },
  "language_info": {
   "codemirror_mode": {
    "name": "ipython",
    "version": 3
   },
   "file_extension": ".py",
   "mimetype": "text/x-python",
   "name": "python",
   "nbconvert_exporter": "python",
   "pygments_lexer": "ipython3",
   "version": "3.7.1"
  }
 },
 "nbformat": 4,
 "nbformat_minor": 2
}
